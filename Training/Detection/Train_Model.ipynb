{
  "cells": [
    {
      "cell_type": "code",
      "execution_count": 1,
      "metadata": {
        "colab": {
          "base_uri": "https://localhost:8080/",
          "height": 1000
        },
        "id": "W7Oqd91Ds4pw",
        "outputId": "ece71ad6-b083-4d7b-d97e-610f74edfe23"
      },
      "outputs": [
        {
          "name": "stdout",
          "output_type": "stream",
          "text": [
            "Defaulting to user installation because normal site-packages is not writeable\n",
            "Requirement already satisfied: ultralytics in c:\\users\\damir\\appdata\\roaming\\python\\python311\\site-packages (8.0.208)\n",
            "Requirement already satisfied: matplotlib>=3.3.0 in c:\\users\\damir\\appdata\\roaming\\python\\python311\\site-packages (from ultralytics) (3.7.1)\n",
            "Requirement already satisfied: numpy>=1.22.2 in c:\\users\\damir\\appdata\\roaming\\python\\python311\\site-packages (from ultralytics) (1.24.2)\n",
            "Requirement already satisfied: opencv-python>=4.6.0 in c:\\users\\damir\\appdata\\roaming\\python\\python311\\site-packages (from ultralytics) (4.8.1.78)\n",
            "Requirement already satisfied: pillow>=7.1.2 in c:\\users\\damir\\appdata\\roaming\\python\\python311\\site-packages (from ultralytics) (9.4.0)\n",
            "Requirement already satisfied: pyyaml>=5.3.1 in c:\\users\\damir\\appdata\\roaming\\python\\python311\\site-packages (from ultralytics) (6.0.1)\n",
            "Requirement already satisfied: requests>=2.23.0 in c:\\users\\damir\\appdata\\roaming\\python\\python311\\site-packages (from ultralytics) (2.31.0)\n",
            "Requirement already satisfied: scipy>=1.4.1 in c:\\users\\damir\\appdata\\roaming\\python\\python311\\site-packages (from ultralytics) (1.11.3)\n",
            "Requirement already satisfied: torch>=1.8.0 in c:\\users\\damir\\appdata\\roaming\\python\\python311\\site-packages (from ultralytics) (2.1.0)\n",
            "Requirement already satisfied: torchvision>=0.9.0 in c:\\users\\damir\\appdata\\roaming\\python\\python311\\site-packages (from ultralytics) (0.16.0)\n",
            "Requirement already satisfied: tqdm>=4.64.0 in c:\\users\\damir\\appdata\\roaming\\python\\python311\\site-packages (from ultralytics) (4.66.1)\n",
            "Requirement already satisfied: pandas>=1.1.4 in c:\\users\\damir\\appdata\\roaming\\python\\python311\\site-packages (from ultralytics) (2.1.3)\n",
            "Requirement already satisfied: seaborn>=0.11.0 in c:\\users\\damir\\appdata\\roaming\\python\\python311\\site-packages (from ultralytics) (0.13.0)\n",
            "Requirement already satisfied: psutil in c:\\users\\damir\\appdata\\roaming\\python\\python311\\site-packages (from ultralytics) (5.9.6)\n",
            "Requirement already satisfied: py-cpuinfo in c:\\users\\damir\\appdata\\roaming\\python\\python311\\site-packages (from ultralytics) (9.0.0)\n",
            "Requirement already satisfied: thop>=0.1.1 in c:\\users\\damir\\appdata\\roaming\\python\\python311\\site-packages (from ultralytics) (0.1.1.post2209072238)\n",
            "Requirement already satisfied: contourpy>=1.0.1 in c:\\users\\damir\\appdata\\roaming\\python\\python311\\site-packages (from matplotlib>=3.3.0->ultralytics) (1.0.7)\n",
            "Requirement already satisfied: cycler>=0.10 in c:\\users\\damir\\appdata\\roaming\\python\\python311\\site-packages (from matplotlib>=3.3.0->ultralytics) (0.11.0)\n",
            "Requirement already satisfied: fonttools>=4.22.0 in c:\\users\\damir\\appdata\\roaming\\python\\python311\\site-packages (from matplotlib>=3.3.0->ultralytics) (4.39.2)\n",
            "Requirement already satisfied: kiwisolver>=1.0.1 in c:\\users\\damir\\appdata\\roaming\\python\\python311\\site-packages (from matplotlib>=3.3.0->ultralytics) (1.4.4)\n",
            "Requirement already satisfied: packaging>=20.0 in c:\\users\\damir\\appdata\\roaming\\python\\python311\\site-packages (from matplotlib>=3.3.0->ultralytics) (23.2)\n",
            "Requirement already satisfied: pyparsing>=2.3.1 in c:\\users\\damir\\appdata\\roaming\\python\\python311\\site-packages (from matplotlib>=3.3.0->ultralytics) (3.0.9)\n",
            "Requirement already satisfied: python-dateutil>=2.7 in c:\\users\\damir\\appdata\\roaming\\python\\python311\\site-packages (from matplotlib>=3.3.0->ultralytics) (2.8.2)\n",
            "Requirement already satisfied: pytz>=2020.1 in c:\\users\\damir\\appdata\\roaming\\python\\python311\\site-packages (from pandas>=1.1.4->ultralytics) (2023.3.post1)\n",
            "Requirement already satisfied: tzdata>=2022.1 in c:\\users\\damir\\appdata\\roaming\\python\\python311\\site-packages (from pandas>=1.1.4->ultralytics) (2023.3)\n",
            "Requirement already satisfied: charset-normalizer<4,>=2 in c:\\users\\damir\\appdata\\roaming\\python\\python311\\site-packages (from requests>=2.23.0->ultralytics) (3.3.2)\n",
            "Requirement already satisfied: idna<4,>=2.5 in c:\\users\\damir\\appdata\\roaming\\python\\python311\\site-packages (from requests>=2.23.0->ultralytics) (3.4)\n",
            "Requirement already satisfied: urllib3<3,>=1.21.1 in c:\\users\\damir\\appdata\\roaming\\python\\python311\\site-packages (from requests>=2.23.0->ultralytics) (2.1.0)\n",
            "Requirement already satisfied: certifi>=2017.4.17 in c:\\users\\damir\\appdata\\roaming\\python\\python311\\site-packages (from requests>=2.23.0->ultralytics) (2023.7.22)\n",
            "Requirement already satisfied: filelock in c:\\users\\damir\\appdata\\roaming\\python\\python311\\site-packages (from torch>=1.8.0->ultralytics) (3.13.1)\n",
            "Requirement already satisfied: typing-extensions in c:\\users\\damir\\appdata\\roaming\\python\\python311\\site-packages (from torch>=1.8.0->ultralytics) (4.8.0)\n",
            "Requirement already satisfied: sympy in c:\\users\\damir\\appdata\\roaming\\python\\python311\\site-packages (from torch>=1.8.0->ultralytics) (1.12)\n",
            "Requirement already satisfied: networkx in c:\\users\\damir\\appdata\\roaming\\python\\python311\\site-packages (from torch>=1.8.0->ultralytics) (3.2.1)\n",
            "Requirement already satisfied: jinja2 in c:\\users\\damir\\appdata\\roaming\\python\\python311\\site-packages (from torch>=1.8.0->ultralytics) (3.1.2)\n",
            "Requirement already satisfied: fsspec in c:\\users\\damir\\appdata\\roaming\\python\\python311\\site-packages (from torch>=1.8.0->ultralytics) (2023.10.0)\n",
            "Requirement already satisfied: colorama in c:\\users\\damir\\appdata\\roaming\\python\\python311\\site-packages (from tqdm>=4.64.0->ultralytics) (0.4.6)\n",
            "Requirement already satisfied: six>=1.5 in c:\\users\\damir\\appdata\\roaming\\python\\python311\\site-packages (from python-dateutil>=2.7->matplotlib>=3.3.0->ultralytics) (1.16.0)\n",
            "Requirement already satisfied: MarkupSafe>=2.0 in c:\\users\\damir\\appdata\\roaming\\python\\python311\\site-packages (from jinja2->torch>=1.8.0->ultralytics) (2.1.3)\n",
            "Requirement already satisfied: mpmath>=0.19 in c:\\users\\damir\\appdata\\roaming\\python\\python311\\site-packages (from sympy->torch>=1.8.0->ultralytics) (1.3.0)\n"
          ]
        },
        {
          "name": "stderr",
          "output_type": "stream",
          "text": [
            "\n",
            "[notice] A new release of pip is available: 23.0.1 -> 23.3.1\n",
            "[notice] To update, run: python.exe -m pip install --upgrade pip\n"
          ]
        }
      ],
      "source": [
        "!pip install ultralytics"
      ]
    },
    {
      "cell_type": "markdown",
      "metadata": {
        "id": "HdmBNEKbtJBZ"
      },
      "source": [
        "## Install YOLOv8"
      ]
    },
    {
      "cell_type": "code",
      "execution_count": 2,
      "metadata": {
        "colab": {
          "base_uri": "https://localhost:8080/"
        },
        "id": "17pSt5mps8Kg",
        "outputId": "319ba170-4846-41f4-c248-211ff9ac0754"
      },
      "outputs": [
        {
          "name": "stderr",
          "output_type": "stream",
          "text": [
            "Traceback (most recent call last):\n",
            "  File \"<frozen runpy>\", line 198, in _run_module_as_main\n",
            "  File \"<frozen runpy>\", line 88, in _run_code\n",
            "  File \"c:\\Users\\Damir\\AppData\\Roaming\\Python\\Python311\\Scripts\\yolo.exe\\__main__.py\", line 7, in <module>\n",
            "  File \"C:\\Users\\Damir\\AppData\\Roaming\\Python\\Python311\\site-packages\\ultralytics\\cfg\\__init__.py\", line 392, in entrypoint\n",
            "    raise ValueError(f\"Invalid 'mode={mode}'. Valid modes are {MODES}.\\n{CLI_HELP_MSG}\")\n",
            "ValueError: Invalid 'mode=<module 'ultralytics.utils.checks' from 'C:\\\\Users\\\\Damir\\\\AppData\\\\Roaming\\\\Python\\\\Python311\\\\site-packages\\\\ultralytics\\\\utils\\\\checks.py'>'. Valid modes are ('train', 'val', 'predict', 'export', 'track', 'benchmark').\n",
            "\n",
            "    Arguments received: ['yolo', 'mode=checks']. Ultralytics 'yolo' commands use the following syntax:\n",
            "\n",
            "        yolo TASK MODE ARGS\n",
            "\n",
            "        Where   TASK (optional) is one of ('detect', 'segment', 'classify', 'pose')\n",
            "                MODE (required) is one of ('train', 'val', 'predict', 'export', 'track', 'benchmark')\n",
            "                ARGS (optional) are any number of custom 'arg=value' pairs like 'imgsz=320' that override defaults.\n",
            "                    See all ARGS at https://docs.ultralytics.com/usage/cfg or with 'yolo cfg'\n",
            "\n",
            "    1. Train a detection model for 10 epochs with an initial learning_rate of 0.01\n",
            "        yolo train data=coco128.yaml model=yolov8n.pt epochs=10 lr0=0.01\n",
            "\n",
            "    2. Predict a YouTube video using a pretrained segmentation model at image size 320:\n",
            "        yolo predict model=yolov8n-seg.pt source='https://youtu.be/LNwODJXcvt4' imgsz=320\n",
            "\n",
            "    3. Val a pretrained detection model at batch-size 1 and image size 640:\n",
            "        yolo val model=yolov8n.pt data=coco128.yaml batch=1 imgsz=640\n",
            "\n",
            "    4. Export a YOLOv8n classification model to ONNX format at image size 224 by 128 (no TASK required)\n",
            "        yolo export model=yolov8n-cls.pt format=onnx imgsz=224,128\n",
            "\n",
            "    5. Run special commands:\n",
            "        yolo help\n",
            "        yolo checks\n",
            "        yolo version\n",
            "        yolo settings\n",
            "        yolo copy-cfg\n",
            "        yolo cfg\n",
            "\n",
            "    Docs: https://docs.ultralytics.com\n",
            "    Community: https://community.ultralytics.com\n",
            "    GitHub: https://github.com/ultralytics/ultralytics\n",
            "    \n"
          ]
        }
      ],
      "source": [
        "from ultralytics import YOLO\n",
        "import os\n",
        "from IPython.display import display, Image\n",
        "from IPython import display\n",
        "display.clear_output()\n",
        "!yolo mode=checks"
      ]
    },
    {
      "cell_type": "markdown",
      "metadata": {
        "id": "wg3f1b7yt_wE"
      },
      "source": [
        "## Train YOLOv8 Model on dataset"
      ]
    },
    {
      "cell_type": "code",
      "execution_count": 3,
      "metadata": {
        "colab": {
          "base_uri": "https://localhost:8080/"
        },
        "id": "8aRV61lJuRqx",
        "outputId": "ab33d4e6-40f9-4a1c-fac2-9b68dfd94eed"
      },
      "outputs": [
        {
          "name": "stderr",
          "output_type": "stream",
          "text": [
            "New https://pypi.org/project/ultralytics/8.0.210 available  Update with 'pip install -U ultralytics'\n",
            "Ultralytics YOLOv8.0.208  Python-3.11.2 torch-2.1.0+cpu CPU (AMD Ryzen 7 PRO 4750G with Radeon Graphics)\n",
            "\u001b[34m\u001b[1mengine\\trainer: \u001b[0mtask=detect, mode=train, model=yolov8n.pt, data=datasets/Cyclones/data.yaml, epochs=1, patience=50, batch=16, imgsz=2101, save=True, save_period=-1, cache=False, device=cpu, workers=8, project=None, name=train3, exist_ok=False, pretrained=True, optimizer=auto, verbose=True, seed=0, deterministic=True, single_cls=False, rect=False, cos_lr=False, close_mosaic=10, resume=False, amp=True, fraction=1.0, profile=False, freeze=None, overlap_mask=True, mask_ratio=4, dropout=0.0, val=True, split=val, save_json=False, save_hybrid=False, conf=None, iou=0.7, max_det=300, half=False, dnn=False, plots=True, source=None, show=False, save_txt=False, save_conf=False, save_crop=False, show_labels=True, show_conf=True, vid_stride=1, stream_buffer=False, line_width=None, visualize=False, augment=False, agnostic_nms=False, classes=None, retina_masks=False, boxes=True, format=torchscript, keras=False, optimize=False, int8=False, dynamic=False, simplify=False, opset=None, workspace=4, nms=False, lr0=0.01, lrf=0.01, momentum=0.937, weight_decay=0.0005, warmup_epochs=3.0, warmup_momentum=0.8, warmup_bias_lr=0.1, box=7.5, cls=0.5, dfl=1.5, pose=12.0, kobj=1.0, label_smoothing=0.0, nbs=64, hsv_h=0.015, hsv_s=0.7, hsv_v=0.4, degrees=0.0, translate=0.1, scale=0.5, shear=0.0, perspective=0.0, flipud=0.0, fliplr=0.5, mosaic=1.0, mixup=0.0, copy_paste=0.0, cfg=None, tracker=botsort.yaml, save_dir=runs\\detect\\train3\n",
            "Overriding model.yaml nc=80 with nc=8\n",
            "\n",
            "                   from  n    params  module                                       arguments                     \n",
            "  0                  -1  1       464  ultralytics.nn.modules.conv.Conv             [3, 16, 3, 2]                 \n",
            "  1                  -1  1      4672  ultralytics.nn.modules.conv.Conv             [16, 32, 3, 2]                \n",
            "  2                  -1  1      7360  ultralytics.nn.modules.block.C2f             [32, 32, 1, True]             \n",
            "  3                  -1  1     18560  ultralytics.nn.modules.conv.Conv             [32, 64, 3, 2]                \n",
            "  4                  -1  2     49664  ultralytics.nn.modules.block.C2f             [64, 64, 2, True]             \n",
            "  5                  -1  1     73984  ultralytics.nn.modules.conv.Conv             [64, 128, 3, 2]               \n",
            "  6                  -1  2    197632  ultralytics.nn.modules.block.C2f             [128, 128, 2, True]           \n",
            "  7                  -1  1    295424  ultralytics.nn.modules.conv.Conv             [128, 256, 3, 2]              \n",
            "  8                  -1  1    460288  ultralytics.nn.modules.block.C2f             [256, 256, 1, True]           \n",
            "  9                  -1  1    164608  ultralytics.nn.modules.block.SPPF            [256, 256, 5]                 \n",
            " 10                  -1  1         0  torch.nn.modules.upsampling.Upsample         [None, 2, 'nearest']          \n",
            " 11             [-1, 6]  1         0  ultralytics.nn.modules.conv.Concat           [1]                           \n",
            " 12                  -1  1    148224  ultralytics.nn.modules.block.C2f             [384, 128, 1]                 \n",
            " 13                  -1  1         0  torch.nn.modules.upsampling.Upsample         [None, 2, 'nearest']          \n",
            " 14             [-1, 4]  1         0  ultralytics.nn.modules.conv.Concat           [1]                           \n",
            " 15                  -1  1     37248  ultralytics.nn.modules.block.C2f             [192, 64, 1]                  \n",
            " 16                  -1  1     36992  ultralytics.nn.modules.conv.Conv             [64, 64, 3, 2]                \n",
            " 17            [-1, 12]  1         0  ultralytics.nn.modules.conv.Concat           [1]                           \n",
            " 18                  -1  1    123648  ultralytics.nn.modules.block.C2f             [192, 128, 1]                 \n",
            " 19                  -1  1    147712  ultralytics.nn.modules.conv.Conv             [128, 128, 3, 2]              \n",
            " 20             [-1, 9]  1         0  ultralytics.nn.modules.conv.Concat           [1]                           \n",
            " 21                  -1  1    493056  ultralytics.nn.modules.block.C2f             [384, 256, 1]                 \n",
            " 22        [15, 18, 21]  1    752872  ultralytics.nn.modules.head.Detect           [8, [64, 128, 256]]           \n",
            "Model summary: 225 layers, 3012408 parameters, 3012392 gradients, 8.2 GFLOPs\n",
            "\n",
            "Transferred 319/355 items from pretrained weights\n",
            "Freezing layer 'model.22.dfl.conv.weight'\n",
            "WARNING  imgsz=[2101] must be multiple of max stride 32, updating to [2112]\n",
            "\n",
            "\u001b[34m\u001b[1mtrain: \u001b[0mScanning C:\\Users\\Damir\\Desktop\\Study\\IT\\Sirius.AI\\Sirius.AI-main\\Training\\Detection\\datasets\\Cyclones\\train\\labels...:   0%|          | 0/10 [00:00<?, ?it/s]\n",
            "\u001b[34m\u001b[1mtrain: \u001b[0mScanning C:\\Users\\Damir\\Desktop\\Study\\IT\\Sirius.AI\\Sirius.AI-main\\Training\\Detection\\datasets\\Cyclones\\train\\labels... 10 images, 0 backgrounds, 0 corrupt: 100%|██████████| 10/10 [00:00<00:00, 617.69it/s]\n",
            "\u001b[34m\u001b[1mtrain: \u001b[0mNew cache created: C:\\Users\\Damir\\Desktop\\Study\\IT\\Sirius.AI\\Sirius.AI-main\\Training\\Detection\\datasets\\Cyclones\\train\\labels.cache\n",
            "\n",
            "\u001b[34m\u001b[1mval: \u001b[0mScanning C:\\Users\\Damir\\Desktop\\Study\\IT\\Sirius.AI\\Sirius.AI-main\\Training\\Detection\\datasets\\Cyclones\\val\\labels.cache... 300 images, 0 backgrounds, 0 corrupt: 100%|██████████| 300/300 [00:00<?, ?it/s]\n",
            "\u001b[34m\u001b[1mval: \u001b[0mScanning C:\\Users\\Damir\\Desktop\\Study\\IT\\Sirius.AI\\Sirius.AI-main\\Training\\Detection\\datasets\\Cyclones\\val\\labels.cache... 300 images, 0 backgrounds, 0 corrupt: 100%|██████████| 300/300 [00:00<?, ?it/s]\n",
            "\u001b[34m\u001b[1mval: \u001b[0mWARNING  C:\\Users\\Damir\\Desktop\\Study\\IT\\Sirius.AI\\Sirius.AI-main\\Training\\Detection\\datasets\\Cyclones\\val\\images\\val (101).jpg: 2 duplicate labels removed\n",
            "\u001b[34m\u001b[1mval: \u001b[0mWARNING  C:\\Users\\Damir\\Desktop\\Study\\IT\\Sirius.AI\\Sirius.AI-main\\Training\\Detection\\datasets\\Cyclones\\val\\images\\val (150).jpg: 2 duplicate labels removed\n",
            "\u001b[34m\u001b[1mval: \u001b[0mWARNING  C:\\Users\\Damir\\Desktop\\Study\\IT\\Sirius.AI\\Sirius.AI-main\\Training\\Detection\\datasets\\Cyclones\\val\\images\\val (16).jpg: 2 duplicate labels removed\n",
            "\u001b[34m\u001b[1mval: \u001b[0mWARNING  C:\\Users\\Damir\\Desktop\\Study\\IT\\Sirius.AI\\Sirius.AI-main\\Training\\Detection\\datasets\\Cyclones\\val\\images\\val (174).jpg: 2 duplicate labels removed\n",
            "\u001b[34m\u001b[1mval: \u001b[0mWARNING  C:\\Users\\Damir\\Desktop\\Study\\IT\\Sirius.AI\\Sirius.AI-main\\Training\\Detection\\datasets\\Cyclones\\val\\images\\val (189).jpg: 2 duplicate labels removed\n",
            "\u001b[34m\u001b[1mval: \u001b[0mWARNING  C:\\Users\\Damir\\Desktop\\Study\\IT\\Sirius.AI\\Sirius.AI-main\\Training\\Detection\\datasets\\Cyclones\\val\\images\\val (55).jpg: 2 duplicate labels removed\n",
            "Plotting labels to runs\\detect\\train3\\labels.jpg... \n",
            "\u001b[34m\u001b[1moptimizer:\u001b[0m 'optimizer=auto' found, ignoring 'lr0=0.01' and 'momentum=0.937' and determining best 'optimizer', 'lr0' and 'momentum' automatically... \n",
            "\u001b[34m\u001b[1moptimizer:\u001b[0m AdamW(lr=0.000833, momentum=0.9) with parameter groups 57 weight(decay=0.0), 64 weight(decay=0.0005), 63 bias(decay=0.0)\n",
            "Image sizes 2112 train, 2112 val\n",
            "Using 0 dataloader workers\n",
            "Logging results to \u001b[1mruns\\detect\\train3\u001b[0m\n",
            "Starting training for 1 epochs...\n",
            "\n",
            "      Epoch    GPU_mem   box_loss   cls_loss   dfl_loss  Instances       Size\n",
            "\n",
            "  0%|          | 0/1 [00:00<?, ?it/s]\n",
            "        1/1         0G       3.83      42.05      4.941         10       2112:   0%|          | 0/1 [01:12<?, ?it/s]\n",
            "        1/1         0G       3.83      42.05      4.941         10       2112: 100%|██████████| 1/1 [01:12<00:00, 72.53s/it]\n",
            "        1/1         0G       3.83      42.05      4.941         10       2112: 100%|██████████| 1/1 [01:12<00:00, 72.53s/it]\n",
            "\n",
            "                 Class     Images  Instances      Box(P          R      mAP50  mAP50-95):   0%|          | 0/10 [00:00<?, ?it/s]WARNING  NMS time limit 2.100s exceeded\n",
            "\n",
            "                 Class     Images  Instances      Box(P          R      mAP50  mAP50-95):  10%|█         | 1/10 [00:36<05:25, 36.12s/it]WARNING  NMS time limit 2.100s exceeded\n",
            "\n",
            "                 Class     Images  Instances      Box(P          R      mAP50  mAP50-95):  20%|██        | 2/10 [01:12<04:50, 36.25s/it]WARNING  NMS time limit 2.100s exceeded\n",
            "\n",
            "                 Class     Images  Instances      Box(P          R      mAP50  mAP50-95):  30%|███       | 3/10 [01:48<04:12, 36.14s/it]WARNING  NMS time limit 2.100s exceeded\n",
            "\n",
            "                 Class     Images  Instances      Box(P          R      mAP50  mAP50-95):  40%|████      | 4/10 [02:23<03:34, 35.81s/it]WARNING  NMS time limit 2.100s exceeded\n",
            "\n",
            "                 Class     Images  Instances      Box(P          R      mAP50  mAP50-95):  50%|█████     | 5/10 [02:59<02:59, 35.89s/it]WARNING  NMS time limit 2.100s exceeded\n",
            "\n",
            "                 Class     Images  Instances      Box(P          R      mAP50  mAP50-95):  60%|██████    | 6/10 [03:36<02:24, 36.15s/it]WARNING  NMS time limit 2.100s exceeded\n",
            "\n",
            "                 Class     Images  Instances      Box(P          R      mAP50  mAP50-95):  70%|███████   | 7/10 [04:12<01:48, 36.17s/it]WARNING  NMS time limit 2.100s exceeded\n",
            "\n",
            "                 Class     Images  Instances      Box(P          R      mAP50  mAP50-95):  80%|████████  | 8/10 [04:48<01:12, 36.21s/it]WARNING  NMS time limit 2.100s exceeded\n",
            "\n",
            "                 Class     Images  Instances      Box(P          R      mAP50  mAP50-95):  90%|█████████ | 9/10 [05:24<00:36, 36.15s/it]WARNING  NMS time limit 1.100s exceeded\n",
            "\n",
            "                 Class     Images  Instances      Box(P          R      mAP50  mAP50-95): 100%|██████████| 10/10 [05:39<00:00, 29.34s/it]\n",
            "                 Class     Images  Instances      Box(P          R      mAP50  mAP50-95): 100%|██████████| 10/10 [05:39<00:00, 33.91s/it]\n",
            "                   all        300        699    0.00499     0.0555    0.00324   0.000715\n",
            "\n",
            "1 epochs completed in 0.115 hours.\n",
            "Optimizer stripped from runs\\detect\\train3\\weights\\last.pt, 6.8MB\n",
            "Optimizer stripped from runs\\detect\\train3\\weights\\best.pt, 6.8MB\n",
            "\n",
            "Validating runs\\detect\\train3\\weights\\best.pt...\n",
            "Ultralytics YOLOv8.0.208  Python-3.11.2 torch-2.1.0+cpu CPU (AMD Ryzen 7 PRO 4750G with Radeon Graphics)\n",
            "Model summary (fused): 168 layers, 3007208 parameters, 0 gradients, 8.1 GFLOPs\n",
            "\n",
            "                 Class     Images  Instances      Box(P          R      mAP50  mAP50-95):   0%|          | 0/10 [00:00<?, ?it/s]WARNING  NMS time limit 2.100s exceeded\n",
            "\n",
            "                 Class     Images  Instances      Box(P          R      mAP50  mAP50-95):  10%|█         | 1/10 [00:30<04:31, 30.16s/it]WARNING  NMS time limit 2.100s exceeded\n",
            "\n",
            "                 Class     Images  Instances      Box(P          R      mAP50  mAP50-95):  20%|██        | 2/10 [00:59<03:57, 29.72s/it]WARNING  NMS time limit 2.100s exceeded\n",
            "\n",
            "                 Class     Images  Instances      Box(P          R      mAP50  mAP50-95):  30%|███       | 3/10 [01:29<03:27, 29.71s/it]WARNING  NMS time limit 2.100s exceeded\n",
            "\n",
            "                 Class     Images  Instances      Box(P          R      mAP50  mAP50-95):  40%|████      | 4/10 [01:59<02:58, 29.82s/it]WARNING  NMS time limit 2.100s exceeded\n",
            "\n",
            "                 Class     Images  Instances      Box(P          R      mAP50  mAP50-95):  50%|█████     | 5/10 [02:29<02:29, 29.89s/it]WARNING  NMS time limit 2.100s exceeded\n",
            "\n",
            "                 Class     Images  Instances      Box(P          R      mAP50  mAP50-95):  60%|██████    | 6/10 [03:00<02:01, 30.31s/it]WARNING  NMS time limit 2.100s exceeded\n",
            "\n",
            "                 Class     Images  Instances      Box(P          R      mAP50  mAP50-95):  70%|███████   | 7/10 [03:31<01:31, 30.56s/it]WARNING  NMS time limit 2.100s exceeded\n",
            "\n",
            "                 Class     Images  Instances      Box(P          R      mAP50  mAP50-95):  80%|████████  | 8/10 [04:02<01:01, 30.73s/it]WARNING  NMS time limit 2.100s exceeded\n",
            "\n",
            "                 Class     Images  Instances      Box(P          R      mAP50  mAP50-95):  90%|█████████ | 9/10 [04:33<00:30, 30.78s/it]WARNING  NMS time limit 1.100s exceeded\n",
            "\n",
            "                 Class     Images  Instances      Box(P          R      mAP50  mAP50-95): 100%|██████████| 10/10 [04:45<00:00, 24.87s/it]\n",
            "                 Class     Images  Instances      Box(P          R      mAP50  mAP50-95): 100%|██████████| 10/10 [04:45<00:00, 28.51s/it]\n",
            "                   all        300        699    0.00519     0.0595    0.00343   0.000745\n",
            " _        300        226    0.00597      0.031    0.00316    0.00089\n",
            "__        300        226       0.01     0.0619    0.00583    0.00136\n",
            "    _        300         62    0.00195      0.129    0.00331   0.000491\n",
            "__        300        185     0.0028     0.0162    0.00144   0.000242\n",
            "Speed: 20.9ms preprocess, 791.4ms inference, 0.0ms loss, 84.5ms postprocess per image\n",
            "Results saved to \u001b[1mruns\\detect\\train3\u001b[0m\n",
            " Learn more at https://docs.ultralytics.com/modes/train\n"
          ]
        }
      ],
      "source": [
        "!yolo task=detect mode=train model=yolov8n.pt data=datasets/Cyclones/data.yaml epochs=1 imgsz=2101 device=cpu"
      ]
    },
    {
      "cell_type": "code",
      "execution_count": 4,
      "metadata": {
        "colab": {
          "base_uri": "https://localhost:8080/"
        },
        "id": "yQCtyIU8uSjI",
        "outputId": "b9c8eb36-4393-4b5c-f048-f1f7a20af6ca"
      },
      "outputs": [
        {
          "name": "stderr",
          "output_type": "stream",
          "text": [
            "Ultralytics YOLOv8.0.208  Python-3.11.2 torch-2.1.0+cpu CPU (AMD Ryzen 7 PRO 4750G with Radeon Graphics)\n",
            "Model summary (fused): 168 layers, 3007208 parameters, 0 gradients, 8.1 GFLOPs\n",
            "\n",
            "\u001b[34m\u001b[1mval: \u001b[0mScanning C:\\Users\\Damir\\Desktop\\Study\\IT\\Sirius.AI\\Sirius.AI-main\\Training\\Detection\\datasets\\Cyclones\\val\\labels...:   0%|          | 0/10 [00:00<?, ?it/s]\n",
            "\u001b[34m\u001b[1mval: \u001b[0mScanning C:\\Users\\Damir\\Desktop\\Study\\IT\\Sirius.AI\\Sirius.AI-main\\Training\\Detection\\datasets\\Cyclones\\val\\labels... 10 images, 0 backgrounds, 0 corrupt: 100%|██████████| 10/10 [00:00<00:00, 714.14it/s]\n",
            "\u001b[34m\u001b[1mval: \u001b[0mNew cache created: C:\\Users\\Damir\\Desktop\\Study\\IT\\Sirius.AI\\Sirius.AI-main\\Training\\Detection\\datasets\\Cyclones\\val\\labels.cache\n",
            "\n",
            "                 Class     Images  Instances      Box(P          R      mAP50  mAP50-95):   0%|          | 0/1 [00:00<?, ?it/s]WARNING  NMS time limit 1.000s exceeded\n",
            "\n",
            "                 Class     Images  Instances      Box(P          R      mAP50  mAP50-95): 100%|██████████| 1/1 [00:08<00:00,  8.44s/it]\n",
            "                 Class     Images  Instances      Box(P          R      mAP50  mAP50-95): 100%|██████████| 1/1 [00:08<00:00,  8.44s/it]\n",
            "                   all         10         10          0          0          0          0\n",
            "Speed: 13.2ms preprocess, 669.4ms inference, 0.0ms loss, 114.1ms postprocess per image\n",
            "Results saved to \u001b[1mruns\\detect\\val\u001b[0m\n",
            " Learn more at https://docs.ultralytics.com/modes/val\n"
          ]
        }
      ],
      "source": [
        "!yolo task=detect mode=val model=runs/detect/train/weights/best.pt data=datasets/Cyclones/data.yaml"
      ]
    }
  ],
  "metadata": {
    "accelerator": "GPU",
    "colab": {
      "authorship_tag": "ABX9TyNY8SevgxQAhIQWHkD8MaSz",
      "include_colab_link": true,
      "provenance": []
    },
    "gpuClass": "standard",
    "kernelspec": {
      "display_name": "Python 3",
      "name": "python3"
    },
    "language_info": {
      "codemirror_mode": {
        "name": "ipython",
        "version": 3
      },
      "file_extension": ".py",
      "mimetype": "text/x-python",
      "name": "python",
      "nbconvert_exporter": "python",
      "pygments_lexer": "ipython3",
      "version": "3.11.2"
    }
  },
  "nbformat": 4,
  "nbformat_minor": 0
}
